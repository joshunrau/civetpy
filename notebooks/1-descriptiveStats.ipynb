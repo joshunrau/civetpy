{
 "cells": [
  {
   "cell_type": "markdown",
   "id": "e02668f7",
   "metadata": {},
   "source": [
    "## 1 - Setup"
   ]
  },
  {
   "cell_type": "markdown",
   "id": "d12aae43",
   "metadata": {},
   "source": [
    "### 1.1 - Load Modules/Libraries"
   ]
  },
  {
   "cell_type": "code",
   "execution_count": 5,
   "id": "3c5b8668",
   "metadata": {},
   "outputs": [],
   "source": [
    "import os\n",
    "import sys"
   ]
  },
  {
   "cell_type": "code",
   "execution_count": 6,
   "id": "04d388b7",
   "metadata": {},
   "outputs": [],
   "source": [
    "sys.path.insert(0, '/Users/joshua/Developer/civetqc')"
   ]
  },
  {
   "cell_type": "code",
   "execution_count": 7,
   "id": "42c0b128",
   "metadata": {},
   "outputs": [],
   "source": [
    "import numpy as np\n",
    "import pandas as pd"
   ]
  },
  {
   "cell_type": "markdown",
   "id": "57f0ad75",
   "metadata": {},
   "source": [
    "### 1.2 - Define Paths"
   ]
  },
  {
   "cell_type": "code",
   "execution_count": 8,
   "id": "28c2600f",
   "metadata": {},
   "outputs": [],
   "source": [
    "DATA_DIR = '/Users/joshua/Developer/civetqc/data'\n",
    "TRAINING_DATASET_PATH = os.path.join(DATA_DIR, 'processed', 'training_dataset.csv')\n",
    "TESTING_DATASET_PATH = os.path.join(DATA_DIR, 'processed', 'testing_dataset.csv')"
   ]
  },
  {
   "cell_type": "markdown",
   "id": "9dbf1c6f",
   "metadata": {},
   "source": [
    "## 2 - Training Data"
   ]
  },
  {
   "cell_type": "code",
   "execution_count": 9,
   "id": "1e7aebea",
   "metadata": {},
   "outputs": [],
   "source": [
    "df = pd.read_csv(TRAINING_DATASET_PATH)"
   ]
  },
  {
   "cell_type": "code",
   "execution_count": 10,
   "id": "9a66b78e",
   "metadata": {},
   "outputs": [
    {
     "data": {
      "text/plain": [
       "18.333333333333332"
      ]
     },
     "execution_count": 10,
     "metadata": {},
     "output_type": "execute_result"
    }
   ],
   "source": [
    "22 / 120 * 100"
   ]
  },
  {
   "cell_type": "code",
   "execution_count": 12,
   "id": "97424374",
   "metadata": {
    "scrolled": true
   },
   "outputs": [
    {
     "name": "stdout",
     "output_type": "stream",
     "text": [
      "Age: Mean = 27.47, SD = 7.64\n",
      "Male 66.03%\n"
     ]
    }
   ],
   "source": [
    "print(f\"Age: Mean = {round(df['AGE'].mean(), 2)}, SD = {round(df['AGE'].std(), 2)}\")\n",
    "print(f\"Male {round(sum(df['SEX'] == 'Male') / len(df) * 100, 2)}%\")"
   ]
  },
  {
   "cell_type": "code",
   "execution_count": 26,
   "id": "4ece12a9",
   "metadata": {},
   "outputs": [
    {
     "data": {
      "text/plain": [
       "618"
      ]
     },
     "execution_count": 26,
     "metadata": {},
     "output_type": "execute_result"
    }
   ],
   "source": [
    "565 + 53"
   ]
  },
  {
   "cell_type": "code",
   "execution_count": 13,
   "id": "690f1be6",
   "metadata": {},
   "outputs": [
    {
     "data": {
      "text/plain": [
       "Patient        565\n",
       "Control        469\n",
       "SCZ             53\n",
       "SCZ-Sibling     11\n",
       "Name: GROUP, dtype: int64"
      ]
     },
     "execution_count": 13,
     "metadata": {},
     "output_type": "execute_result"
    }
   ],
   "source": [
    "df['GROUP'].value_counts()"
   ]
  },
  {
   "cell_type": "code",
   "execution_count": 14,
   "id": "0cb921e0",
   "metadata": {},
   "outputs": [],
   "source": [
    "def summarize(df, get_unique = lambda x: x):\n",
    "    unique_ids = np.unique(df['ID'].apply(get_unique))\n",
    "    print(f\"Participants: {len(unique_ids)}\")\n",
    "    print(f\"Timepoints: {len(np.unique(df['TIMEPOINT']))}\")\n",
    "    print(f\"Scans: {len(df['ID'])}\")\n",
    "    print(f\"Acceptable: {sum(df['QC'] == 0)}\")\n",
    "    print(f\"Unacceptable: {sum(df['QC'] == 1)}\")\n",
    "    print(f\"Age: {df['AGE'].mean():.2f} ({df['AGE'].std():.2f})\")\n",
    "    print(f\"Male: {sum(df['SEX'] == 'Male') / len(df) * 100:.1f}%\")\n",
    "    print(df['GROUP'].value_counts())"
   ]
  },
  {
   "cell_type": "markdown",
   "id": "05676858",
   "metadata": {},
   "source": [
    "### 2.1 - FEP"
   ]
  },
  {
   "cell_type": "code",
   "execution_count": 15,
   "id": "4b2da505",
   "metadata": {},
   "outputs": [
    {
     "name": "stdout",
     "output_type": "stream",
     "text": [
      "Participants: 215\n",
      "Timepoints: 3\n",
      "Scans: 453\n",
      "Acceptable: 443\n",
      "Unacceptable: 10\n",
      "Age: 24.91 (3.86)\n",
      "Male: 66.0%\n",
      "Patient    291\n",
      "Control    162\n",
      "Name: GROUP, dtype: int64\n"
     ]
    }
   ],
   "source": [
    "summarize(df[df['STUDY'] == 'FEP'], lambda s: '_'.join(s.split('_')[:2]))"
   ]
  },
  {
   "cell_type": "markdown",
   "id": "34c448b2",
   "metadata": {},
   "source": [
    "### 2.2 - LAM"
   ]
  },
  {
   "cell_type": "code",
   "execution_count": 16,
   "id": "e9c77b59",
   "metadata": {},
   "outputs": [
    {
     "name": "stdout",
     "output_type": "stream",
     "text": [
      "Participants: 115\n",
      "Timepoints: 4\n",
      "Scans: 333\n",
      "Acceptable: 322\n",
      "Unacceptable: 11\n",
      "Age: 25.33 (4.30)\n",
      "Male: 66.1%\n",
      "Control    172\n",
      "Patient    161\n",
      "Name: GROUP, dtype: int64\n"
     ]
    }
   ],
   "source": [
    "summarize(df[df['STUDY'] == 'LAM'], lambda s: s.split('_')[0])"
   ]
  },
  {
   "cell_type": "markdown",
   "id": "d7d9dd8a",
   "metadata": {},
   "source": [
    "### 2.3 - INSIGHT"
   ]
  },
  {
   "cell_type": "code",
   "execution_count": 17,
   "id": "9ffe2660",
   "metadata": {},
   "outputs": [
    {
     "name": "stdout",
     "output_type": "stream",
     "text": [
      "Participants: 182\n",
      "Timepoints: 1\n",
      "Scans: 182\n",
      "Acceptable: 178\n",
      "Unacceptable: 4\n",
      "Age: 34.89 (8.43)\n",
      "Male: 74.2%\n",
      "Patient    113\n",
      "Control     69\n",
      "Name: GROUP, dtype: int64\n"
     ]
    }
   ],
   "source": [
    "summarize(df[df['STUDY'] == 'INSIGHT'])"
   ]
  },
  {
   "cell_type": "markdown",
   "id": "4b9382c8",
   "metadata": {},
   "source": [
    "### 2.4 - NUSDAST"
   ]
  },
  {
   "cell_type": "code",
   "execution_count": 18,
   "id": "499432f7",
   "metadata": {},
   "outputs": [
    {
     "name": "stdout",
     "output_type": "stream",
     "text": [
      "Participants: 113\n",
      "Timepoints: 3\n",
      "Scans: 130\n",
      "Acceptable: 124\n",
      "Unacceptable: 6\n",
      "Age: 31.31 (12.94)\n",
      "Male: 54.6%\n",
      "Control        66\n",
      "SCZ            53\n",
      "SCZ-Sibling    11\n",
      "Name: GROUP, dtype: int64\n"
     ]
    }
   ],
   "source": [
    "summarize(df[df['STUDY'] == 'NUSDAST'], lambda s: s.split('_')[0])"
   ]
  },
  {
   "cell_type": "markdown",
   "id": "7dc1157c",
   "metadata": {},
   "source": [
    "### 2.5 - UKBB"
   ]
  },
  {
   "cell_type": "code",
   "execution_count": 21,
   "id": "c523e55b",
   "metadata": {},
   "outputs": [],
   "source": [
    "ukbb_data = pd.read_csv(TESTING_DATASET_PATH)"
   ]
  },
  {
   "cell_type": "code",
   "execution_count": 25,
   "id": "db53de4b",
   "metadata": {},
   "outputs": [
    {
     "data": {
      "text/plain": [
       "103"
      ]
     },
     "execution_count": 25,
     "metadata": {},
     "output_type": "execute_result"
    }
   ],
   "source": [
    "sum(ukbb_data['PATIENT'] == False)"
   ]
  }
 ],
 "metadata": {
  "kernelspec": {
   "display_name": "Python 3.8.12 64-bit ('3.8.12')",
   "language": "python",
   "name": "python3"
  },
  "language_info": {
   "codemirror_mode": {
    "name": "ipython",
    "version": 3
   },
   "file_extension": ".py",
   "mimetype": "text/x-python",
   "name": "python",
   "nbconvert_exporter": "python",
   "pygments_lexer": "ipython3",
   "version": "3.8.12"
  },
  "vscode": {
   "interpreter": {
    "hash": "8e33294aa4baf4443c8469478d11b630d7049e69790e7f7c196fe1fa28c83012"
   }
  }
 },
 "nbformat": 4,
 "nbformat_minor": 5
}
