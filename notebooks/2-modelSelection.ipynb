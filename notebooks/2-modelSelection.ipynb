{
 "cells": [
  {
   "cell_type": "markdown",
   "id": "d8d7c4e7",
   "metadata": {},
   "source": [
    "# Model Selection"
   ]
  },
  {
   "cell_type": "markdown",
   "id": "f361dadc",
   "metadata": {},
   "source": [
    "## 1 - Setup"
   ]
  },
  {
   "cell_type": "markdown",
   "id": "04d7ea5f",
   "metadata": {},
   "source": [
    "### 1.1 - Load Modules/Libraries"
   ]
  },
  {
   "cell_type": "code",
   "execution_count": 1,
   "id": "ca1cbc37",
   "metadata": {},
   "outputs": [],
   "source": [
    "import copy\n",
    "import os\n",
    "import sys"
   ]
  },
  {
   "cell_type": "code",
   "execution_count": 2,
   "id": "b996a405",
   "metadata": {},
   "outputs": [],
   "source": [
    "sys.path.insert(0, '/Users/joshua/Developer/civetqc')"
   ]
  },
  {
   "cell_type": "code",
   "execution_count": 3,
   "id": "83bf5ba8",
   "metadata": {},
   "outputs": [],
   "source": [
    "import matplotlib.pyplot as plt\n",
    "import numpy as np\n",
    "import pandas as pd"
   ]
  },
  {
   "cell_type": "code",
   "execution_count": 4,
   "id": "de61fed3",
   "metadata": {},
   "outputs": [],
   "source": [
    "from sklearn.inspection import permutation_importance\n",
    "from sklearn.metrics import balanced_accuracy_score, classification_report, fbeta_score\n",
    "from sklearn.model_selection import cross_val_score"
   ]
  },
  {
   "cell_type": "code",
   "execution_count": 5,
   "id": "96f360e7",
   "metadata": {},
   "outputs": [],
   "source": [
    "from civetqc.data import CivetData, QCRatingsData\n",
    "from civetqc.model import Model\n",
    "from civetqc.train import f2_scorer, search"
   ]
  },
  {
   "cell_type": "code",
   "execution_count": 6,
   "id": "34e8b987",
   "metadata": {},
   "outputs": [],
   "source": [
    "pd.options.display.max_columns = None\n",
    "pd.options.display.max_rows = None"
   ]
  },
  {
   "cell_type": "markdown",
   "id": "2c9ade1b",
   "metadata": {},
   "source": [
    "### 1.2 - Define Paths"
   ]
  },
  {
   "cell_type": "code",
   "execution_count": 7,
   "id": "1a96d65a",
   "metadata": {},
   "outputs": [],
   "source": [
    "ROOT_DIR = '/Users/joshua/Developer/civetqc'"
   ]
  },
  {
   "cell_type": "code",
   "execution_count": 8,
   "id": "6fed2614",
   "metadata": {},
   "outputs": [],
   "source": [
    "DATA_DIR = os.path.join(ROOT_DIR, 'data')\n",
    "FIGURES_DIR = os.path.join(ROOT_DIR, 'figures')\n",
    "TABLES_DIR = os.path.join(ROOT_DIR, 'tables')"
   ]
  },
  {
   "cell_type": "code",
   "execution_count": 9,
   "id": "aac3057a",
   "metadata": {},
   "outputs": [],
   "source": [
    "TRAINING_DATASET_PATH = os.path.join(DATA_DIR, 'processed', 'training_dataset.csv')\n",
    "TESTING_DATASET_PATH = os.path.join(DATA_DIR, 'processed', 'testing_dataset.csv')"
   ]
  },
  {
   "cell_type": "markdown",
   "id": "8fe3e3e9",
   "metadata": {},
   "source": [
    "### 1.3 - Set Random Seed for Reproducibility"
   ]
  },
  {
   "cell_type": "code",
   "execution_count": 10,
   "id": "c778cb53",
   "metadata": {},
   "outputs": [],
   "source": [
    "np.random.seed(0)"
   ]
  },
  {
   "cell_type": "markdown",
   "id": "8c38ca37",
   "metadata": {},
   "source": [
    "## 2 - Training"
   ]
  },
  {
   "cell_type": "markdown",
   "id": "538a23dd",
   "metadata": {},
   "source": [
    "### 2.1 - Load Training Data"
   ]
  },
  {
   "cell_type": "code",
   "execution_count": 11,
   "id": "4d3f06de",
   "metadata": {},
   "outputs": [],
   "source": [
    "civet_data = CivetData.from_csv(TRAINING_DATASET_PATH)\n",
    "qc_data = QCRatingsData.from_csv(TRAINING_DATASET_PATH)"
   ]
  },
  {
   "cell_type": "markdown",
   "id": "55cac597",
   "metadata": {},
   "source": [
    "### 2.2 - Run Search"
   ]
  },
  {
   "cell_type": "code",
   "execution_count": 12,
   "id": "54fde994",
   "metadata": {
    "scrolled": true
   },
   "outputs": [
    {
     "data": {
      "text/html": [
       "<style>#sk-container-id-1 {color: black;background-color: white;}#sk-container-id-1 pre{padding: 0;}#sk-container-id-1 div.sk-toggleable {background-color: white;}#sk-container-id-1 label.sk-toggleable__label {cursor: pointer;display: block;width: 100%;margin-bottom: 0;padding: 0.3em;box-sizing: border-box;text-align: center;}#sk-container-id-1 label.sk-toggleable__label-arrow:before {content: \"▸\";float: left;margin-right: 0.25em;color: #696969;}#sk-container-id-1 label.sk-toggleable__label-arrow:hover:before {color: black;}#sk-container-id-1 div.sk-estimator:hover label.sk-toggleable__label-arrow:before {color: black;}#sk-container-id-1 div.sk-toggleable__content {max-height: 0;max-width: 0;overflow: hidden;text-align: left;background-color: #f0f8ff;}#sk-container-id-1 div.sk-toggleable__content pre {margin: 0.2em;color: black;border-radius: 0.25em;background-color: #f0f8ff;}#sk-container-id-1 input.sk-toggleable__control:checked~div.sk-toggleable__content {max-height: 200px;max-width: 100%;overflow: auto;}#sk-container-id-1 input.sk-toggleable__control:checked~label.sk-toggleable__label-arrow:before {content: \"▾\";}#sk-container-id-1 div.sk-estimator input.sk-toggleable__control:checked~label.sk-toggleable__label {background-color: #d4ebff;}#sk-container-id-1 div.sk-label input.sk-toggleable__control:checked~label.sk-toggleable__label {background-color: #d4ebff;}#sk-container-id-1 input.sk-hidden--visually {border: 0;clip: rect(1px 1px 1px 1px);clip: rect(1px, 1px, 1px, 1px);height: 1px;margin: -1px;overflow: hidden;padding: 0;position: absolute;width: 1px;}#sk-container-id-1 div.sk-estimator {font-family: monospace;background-color: #f0f8ff;border: 1px dotted black;border-radius: 0.25em;box-sizing: border-box;margin-bottom: 0.5em;}#sk-container-id-1 div.sk-estimator:hover {background-color: #d4ebff;}#sk-container-id-1 div.sk-parallel-item::after {content: \"\";width: 100%;border-bottom: 1px solid gray;flex-grow: 1;}#sk-container-id-1 div.sk-label:hover label.sk-toggleable__label {background-color: #d4ebff;}#sk-container-id-1 div.sk-serial::before {content: \"\";position: absolute;border-left: 1px solid gray;box-sizing: border-box;top: 0;bottom: 0;left: 50%;z-index: 0;}#sk-container-id-1 div.sk-serial {display: flex;flex-direction: column;align-items: center;background-color: white;padding-right: 0.2em;padding-left: 0.2em;position: relative;}#sk-container-id-1 div.sk-item {position: relative;z-index: 1;}#sk-container-id-1 div.sk-parallel {display: flex;align-items: stretch;justify-content: center;background-color: white;position: relative;}#sk-container-id-1 div.sk-item::before, #sk-container-id-1 div.sk-parallel-item::before {content: \"\";position: absolute;border-left: 1px solid gray;box-sizing: border-box;top: 0;bottom: 0;left: 50%;z-index: -1;}#sk-container-id-1 div.sk-parallel-item {display: flex;flex-direction: column;z-index: 1;position: relative;background-color: white;}#sk-container-id-1 div.sk-parallel-item:first-child::after {align-self: flex-end;width: 50%;}#sk-container-id-1 div.sk-parallel-item:last-child::after {align-self: flex-start;width: 50%;}#sk-container-id-1 div.sk-parallel-item:only-child::after {width: 0;}#sk-container-id-1 div.sk-dashed-wrapped {border: 1px dashed gray;margin: 0 0.4em 0.5em 0.4em;box-sizing: border-box;padding-bottom: 0.4em;background-color: white;}#sk-container-id-1 div.sk-label label {font-family: monospace;font-weight: bold;display: inline-block;line-height: 1.2em;}#sk-container-id-1 div.sk-label-container {text-align: center;}#sk-container-id-1 div.sk-container {/* jupyter's `normalize.less` sets `[hidden] { display: none; }` but bootstrap.min.css set `[hidden] { display: none !important; }` so we also need the `!important` here to be able to override the default hidden behavior on the sphinx rendered scikit-learn.org. See: https://github.com/scikit-learn/scikit-learn/issues/21755 */display: inline-block !important;position: relative;}#sk-container-id-1 div.sk-text-repr-fallback {display: none;}</style><div id=\"sk-container-id-1\" class=\"sk-top-container\"><div class=\"sk-text-repr-fallback\"><pre>Pipeline(steps=[(&#x27;scaler&#x27;, StandardScaler()),\n",
       "                (&#x27;fs&#x27;,\n",
       "                 SelectPercentile(percentile=90,\n",
       "                                  score_func=&lt;function f_regression at 0x282328280&gt;)),\n",
       "                (&#x27;sampler&#x27;, SMOTE()),\n",
       "                (&#x27;clf&#x27;,\n",
       "                 SVC(C=1.7453271965593198, gamma=0.2574526615306137,\n",
       "                     kernel=&#x27;linear&#x27;))])</pre><b>In a Jupyter environment, please rerun this cell to show the HTML representation or trust the notebook. <br />On GitHub, the HTML representation is unable to render, please try loading this page with nbviewer.org.</b></div><div class=\"sk-container\" hidden><div class=\"sk-item sk-dashed-wrapped\"><div class=\"sk-label-container\"><div class=\"sk-label sk-toggleable\"><input class=\"sk-toggleable__control sk-hidden--visually\" id=\"sk-estimator-id-1\" type=\"checkbox\" ><label for=\"sk-estimator-id-1\" class=\"sk-toggleable__label sk-toggleable__label-arrow\">Pipeline</label><div class=\"sk-toggleable__content\"><pre>Pipeline(steps=[(&#x27;scaler&#x27;, StandardScaler()),\n",
       "                (&#x27;fs&#x27;,\n",
       "                 SelectPercentile(percentile=90,\n",
       "                                  score_func=&lt;function f_regression at 0x282328280&gt;)),\n",
       "                (&#x27;sampler&#x27;, SMOTE()),\n",
       "                (&#x27;clf&#x27;,\n",
       "                 SVC(C=1.7453271965593198, gamma=0.2574526615306137,\n",
       "                     kernel=&#x27;linear&#x27;))])</pre></div></div></div><div class=\"sk-serial\"><div class=\"sk-item\"><div class=\"sk-estimator sk-toggleable\"><input class=\"sk-toggleable__control sk-hidden--visually\" id=\"sk-estimator-id-2\" type=\"checkbox\" ><label for=\"sk-estimator-id-2\" class=\"sk-toggleable__label sk-toggleable__label-arrow\">StandardScaler</label><div class=\"sk-toggleable__content\"><pre>StandardScaler()</pre></div></div></div><div class=\"sk-item\"><div class=\"sk-estimator sk-toggleable\"><input class=\"sk-toggleable__control sk-hidden--visually\" id=\"sk-estimator-id-3\" type=\"checkbox\" ><label for=\"sk-estimator-id-3\" class=\"sk-toggleable__label sk-toggleable__label-arrow\">SelectPercentile</label><div class=\"sk-toggleable__content\"><pre>SelectPercentile(percentile=90,\n",
       "                 score_func=&lt;function f_regression at 0x282328280&gt;)</pre></div></div></div><div class=\"sk-item\"><div class=\"sk-estimator sk-toggleable\"><input class=\"sk-toggleable__control sk-hidden--visually\" id=\"sk-estimator-id-4\" type=\"checkbox\" ><label for=\"sk-estimator-id-4\" class=\"sk-toggleable__label sk-toggleable__label-arrow\">SMOTE</label><div class=\"sk-toggleable__content\"><pre>SMOTE()</pre></div></div></div><div class=\"sk-item\"><div class=\"sk-estimator sk-toggleable\"><input class=\"sk-toggleable__control sk-hidden--visually\" id=\"sk-estimator-id-5\" type=\"checkbox\" ><label for=\"sk-estimator-id-5\" class=\"sk-toggleable__label sk-toggleable__label-arrow\">SVC</label><div class=\"sk-toggleable__content\"><pre>SVC(C=1.7453271965593198, gamma=0.2574526615306137, kernel=&#x27;linear&#x27;)</pre></div></div></div></div></div></div></div>"
      ],
      "text/plain": [
       "Pipeline(steps=[('scaler', StandardScaler()),\n",
       "                ('fs',\n",
       "                 SelectPercentile(percentile=90,\n",
       "                                  score_func=<function f_regression at 0x282328280>)),\n",
       "                ('sampler', SMOTE()),\n",
       "                ('clf',\n",
       "                 SVC(C=1.7453271965593198, gamma=0.2574526615306137,\n",
       "                     kernel='linear'))])"
      ]
     },
     "execution_count": 12,
     "metadata": {},
     "output_type": "execute_result"
    }
   ],
   "source": [
    "search.fit(civet_data.features, qc_data.ratings)\n",
    "search.best_estimator_"
   ]
  },
  {
   "cell_type": "markdown",
   "id": "d27be19d",
   "metadata": {},
   "source": [
    "### 2.3 - Assess CV Results"
   ]
  },
  {
   "cell_type": "code",
   "execution_count": 13,
   "id": "06916711",
   "metadata": {
    "scrolled": false
   },
   "outputs": [],
   "source": [
    "formatted_results = {\n",
    "    \"Percentile Features\": [],\n",
    "    \"Classifier\": [],\n",
    "    \"C\": [],\n",
    "    \"Gamma\": [],\n",
    "    \"Kernel\": []\n",
    "}\n",
    "\n",
    "results = pd.DataFrame(search.cv_results_).sort_values(f\"rank_test_{getattr(search, 'refit')}\")\n",
    "for i in results.index[:10]:\n",
    "    formatted_results[\"Percentile Features\"].append(results.loc[i, 'param_fs__percentile'])\n",
    "    formatted_results['Classifier'].append(str(results.loc[i, 'param_clf']).split('(')[0])\n",
    "    formatted_results['C'].append(round(results.loc[i, 'param_clf__C'], 2))\n",
    "    formatted_results['Gamma'].append(round(results.loc[i, 'param_clf__gamma'], 2))\n",
    "    formatted_results['Kernel'].append(results.loc[i, 'param_clf__kernel'])\n",
    "    for metric in getattr(search, 'scoring').keys():\n",
    "        if metric.title() not in formatted_results:\n",
    "            formatted_results[metric.title()] = []\n",
    "        mean = round(results.loc[i, f\"mean_test_{metric}\"], 2)\n",
    "        std = round(results.loc[i, f\"std_test_{metric}\"], 2)\n",
    "        formatted_results[metric.title()].append(f\"{mean} ± {std}\")\n",
    "formatted_results = pd.DataFrame(formatted_results)\n",
    "formatted_results.to_csv(os.path.join(TABLES_DIR, 'search_results.csv'), index=False)"
   ]
  },
  {
   "cell_type": "code",
   "execution_count": 14,
   "id": "ffa139e6",
   "metadata": {},
   "outputs": [
    {
     "data": {
      "text/html": [
       "<div>\n",
       "<style scoped>\n",
       "    .dataframe tbody tr th:only-of-type {\n",
       "        vertical-align: middle;\n",
       "    }\n",
       "\n",
       "    .dataframe tbody tr th {\n",
       "        vertical-align: top;\n",
       "    }\n",
       "\n",
       "    .dataframe thead th {\n",
       "        text-align: right;\n",
       "    }\n",
       "</style>\n",
       "<table border=\"1\" class=\"dataframe\">\n",
       "  <thead>\n",
       "    <tr style=\"text-align: right;\">\n",
       "      <th></th>\n",
       "      <th>Percentile Features</th>\n",
       "      <th>Classifier</th>\n",
       "      <th>C</th>\n",
       "      <th>Gamma</th>\n",
       "      <th>Kernel</th>\n",
       "      <th>Balanced_Accuracy</th>\n",
       "      <th>F2</th>\n",
       "      <th>Precision_Acceptable_Scans</th>\n",
       "      <th>Recall_Acceptable_Scans</th>\n",
       "      <th>Precision_Unacceptable_Scans</th>\n",
       "      <th>Recall_Unacceptable_Scans</th>\n",
       "    </tr>\n",
       "  </thead>\n",
       "  <tbody>\n",
       "    <tr>\n",
       "      <th>0</th>\n",
       "      <td>90</td>\n",
       "      <td>SVC</td>\n",
       "      <td>1.75</td>\n",
       "      <td>0.26</td>\n",
       "      <td>linear</td>\n",
       "      <td>0.94 ± 0.05</td>\n",
       "      <td>0.81 ± 0.11</td>\n",
       "      <td>1.0 ± 0.0</td>\n",
       "      <td>0.98 ± 0.02</td>\n",
       "      <td>0.63 ± 0.2</td>\n",
       "      <td>0.89 ± 0.09</td>\n",
       "    </tr>\n",
       "    <tr>\n",
       "      <th>1</th>\n",
       "      <td>100</td>\n",
       "      <td>SVC</td>\n",
       "      <td>1.20</td>\n",
       "      <td>0.16</td>\n",
       "      <td>linear</td>\n",
       "      <td>0.93 ± 0.06</td>\n",
       "      <td>0.8 ± 0.11</td>\n",
       "      <td>1.0 ± 0.0</td>\n",
       "      <td>0.98 ± 0.02</td>\n",
       "      <td>0.7 ± 0.24</td>\n",
       "      <td>0.87 ± 0.12</td>\n",
       "    </tr>\n",
       "    <tr>\n",
       "      <th>2</th>\n",
       "      <td>90</td>\n",
       "      <td>SVC</td>\n",
       "      <td>2.19</td>\n",
       "      <td>0.08</td>\n",
       "      <td>linear</td>\n",
       "      <td>0.92 ± 0.06</td>\n",
       "      <td>0.79 ± 0.12</td>\n",
       "      <td>1.0 ± 0.0</td>\n",
       "      <td>0.98 ± 0.02</td>\n",
       "      <td>0.64 ± 0.21</td>\n",
       "      <td>0.87 ± 0.12</td>\n",
       "    </tr>\n",
       "    <tr>\n",
       "      <th>3</th>\n",
       "      <td>100</td>\n",
       "      <td>SVC</td>\n",
       "      <td>6.87</td>\n",
       "      <td>0.32</td>\n",
       "      <td>linear</td>\n",
       "      <td>0.92 ± 0.1</td>\n",
       "      <td>0.78 ± 0.18</td>\n",
       "      <td>0.99 ± 0.01</td>\n",
       "      <td>0.98 ± 0.02</td>\n",
       "      <td>0.68 ± 0.26</td>\n",
       "      <td>0.85 ± 0.19</td>\n",
       "    </tr>\n",
       "    <tr>\n",
       "      <th>4</th>\n",
       "      <td>100</td>\n",
       "      <td>SVC</td>\n",
       "      <td>1.34</td>\n",
       "      <td>0.43</td>\n",
       "      <td>linear</td>\n",
       "      <td>0.91 ± 0.07</td>\n",
       "      <td>0.78 ± 0.13</td>\n",
       "      <td>0.99 ± 0.01</td>\n",
       "      <td>0.98 ± 0.02</td>\n",
       "      <td>0.69 ± 0.25</td>\n",
       "      <td>0.84 ± 0.14</td>\n",
       "    </tr>\n",
       "    <tr>\n",
       "      <th>5</th>\n",
       "      <td>90</td>\n",
       "      <td>SVC</td>\n",
       "      <td>1.57</td>\n",
       "      <td>0.38</td>\n",
       "      <td>linear</td>\n",
       "      <td>0.92 ± 0.04</td>\n",
       "      <td>0.77 ± 0.06</td>\n",
       "      <td>1.0 ± 0.0</td>\n",
       "      <td>0.98 ± 0.01</td>\n",
       "      <td>0.61 ± 0.17</td>\n",
       "      <td>0.86 ± 0.07</td>\n",
       "    </tr>\n",
       "    <tr>\n",
       "      <th>6</th>\n",
       "      <td>90</td>\n",
       "      <td>SVC</td>\n",
       "      <td>6.49</td>\n",
       "      <td>0.19</td>\n",
       "      <td>linear</td>\n",
       "      <td>0.91 ± 0.08</td>\n",
       "      <td>0.77 ± 0.15</td>\n",
       "      <td>0.99 ± 0.01</td>\n",
       "      <td>0.98 ± 0.03</td>\n",
       "      <td>0.65 ± 0.27</td>\n",
       "      <td>0.84 ± 0.14</td>\n",
       "    </tr>\n",
       "    <tr>\n",
       "      <th>7</th>\n",
       "      <td>100</td>\n",
       "      <td>SVC</td>\n",
       "      <td>5.62</td>\n",
       "      <td>0.02</td>\n",
       "      <td>linear</td>\n",
       "      <td>0.9 ± 0.09</td>\n",
       "      <td>0.76 ± 0.16</td>\n",
       "      <td>0.99 ± 0.01</td>\n",
       "      <td>0.98 ± 0.02</td>\n",
       "      <td>0.69 ± 0.24</td>\n",
       "      <td>0.81 ± 0.17</td>\n",
       "    </tr>\n",
       "    <tr>\n",
       "      <th>8</th>\n",
       "      <td>90</td>\n",
       "      <td>SVC</td>\n",
       "      <td>2.30</td>\n",
       "      <td>0.31</td>\n",
       "      <td>linear</td>\n",
       "      <td>0.91 ± 0.07</td>\n",
       "      <td>0.76 ± 0.12</td>\n",
       "      <td>0.99 ± 0.0</td>\n",
       "      <td>0.98 ± 0.02</td>\n",
       "      <td>0.63 ± 0.2</td>\n",
       "      <td>0.83 ± 0.14</td>\n",
       "    </tr>\n",
       "    <tr>\n",
       "      <th>9</th>\n",
       "      <td>100</td>\n",
       "      <td>SVC</td>\n",
       "      <td>4.69</td>\n",
       "      <td>0.22</td>\n",
       "      <td>linear</td>\n",
       "      <td>0.9 ± 0.09</td>\n",
       "      <td>0.75 ± 0.15</td>\n",
       "      <td>0.99 ± 0.01</td>\n",
       "      <td>0.98 ± 0.02</td>\n",
       "      <td>0.68 ± 0.26</td>\n",
       "      <td>0.81 ± 0.17</td>\n",
       "    </tr>\n",
       "  </tbody>\n",
       "</table>\n",
       "</div>"
      ],
      "text/plain": [
       "   Percentile Features Classifier     C  Gamma  Kernel Balanced_Accuracy  \\\n",
       "0                   90        SVC  1.75   0.26  linear       0.94 ± 0.05   \n",
       "1                  100        SVC  1.20   0.16  linear       0.93 ± 0.06   \n",
       "2                   90        SVC  2.19   0.08  linear       0.92 ± 0.06   \n",
       "3                  100        SVC  6.87   0.32  linear        0.92 ± 0.1   \n",
       "4                  100        SVC  1.34   0.43  linear       0.91 ± 0.07   \n",
       "5                   90        SVC  1.57   0.38  linear       0.92 ± 0.04   \n",
       "6                   90        SVC  6.49   0.19  linear       0.91 ± 0.08   \n",
       "7                  100        SVC  5.62   0.02  linear        0.9 ± 0.09   \n",
       "8                   90        SVC  2.30   0.31  linear       0.91 ± 0.07   \n",
       "9                  100        SVC  4.69   0.22  linear        0.9 ± 0.09   \n",
       "\n",
       "            F2 Precision_Acceptable_Scans Recall_Acceptable_Scans  \\\n",
       "0  0.81 ± 0.11                  1.0 ± 0.0             0.98 ± 0.02   \n",
       "1   0.8 ± 0.11                  1.0 ± 0.0             0.98 ± 0.02   \n",
       "2  0.79 ± 0.12                  1.0 ± 0.0             0.98 ± 0.02   \n",
       "3  0.78 ± 0.18                0.99 ± 0.01             0.98 ± 0.02   \n",
       "4  0.78 ± 0.13                0.99 ± 0.01             0.98 ± 0.02   \n",
       "5  0.77 ± 0.06                  1.0 ± 0.0             0.98 ± 0.01   \n",
       "6  0.77 ± 0.15                0.99 ± 0.01             0.98 ± 0.03   \n",
       "7  0.76 ± 0.16                0.99 ± 0.01             0.98 ± 0.02   \n",
       "8  0.76 ± 0.12                 0.99 ± 0.0             0.98 ± 0.02   \n",
       "9  0.75 ± 0.15                0.99 ± 0.01             0.98 ± 0.02   \n",
       "\n",
       "  Precision_Unacceptable_Scans Recall_Unacceptable_Scans  \n",
       "0                   0.63 ± 0.2               0.89 ± 0.09  \n",
       "1                   0.7 ± 0.24               0.87 ± 0.12  \n",
       "2                  0.64 ± 0.21               0.87 ± 0.12  \n",
       "3                  0.68 ± 0.26               0.85 ± 0.19  \n",
       "4                  0.69 ± 0.25               0.84 ± 0.14  \n",
       "5                  0.61 ± 0.17               0.86 ± 0.07  \n",
       "6                  0.65 ± 0.27               0.84 ± 0.14  \n",
       "7                  0.69 ± 0.24               0.81 ± 0.17  \n",
       "8                   0.63 ± 0.2               0.83 ± 0.14  \n",
       "9                  0.68 ± 0.26               0.81 ± 0.17  "
      ]
     },
     "execution_count": 14,
     "metadata": {},
     "output_type": "execute_result"
    }
   ],
   "source": [
    "formatted_results"
   ]
  },
  {
   "cell_type": "markdown",
   "id": "110d5162",
   "metadata": {},
   "source": [
    "## 3 - Subset Analyses"
   ]
  },
  {
   "cell_type": "code",
   "execution_count": 15,
   "id": "dd044254",
   "metadata": {},
   "outputs": [],
   "source": [
    "training_data = pd.read_csv(TRAINING_DATASET_PATH)"
   ]
  },
  {
   "cell_type": "code",
   "execution_count": 16,
   "id": "4b6b456b",
   "metadata": {},
   "outputs": [],
   "source": [
    "def get_subset(df: pd.DataFrame, group_label: str) -> tuple:\n",
    "    subset_df = df[df['GROUP'] == group_label]\n",
    "    return subset_df[CivetData.feature_names].to_numpy(), subset_df['QC'].to_numpy()"
   ]
  },
  {
   "cell_type": "code",
   "execution_count": 17,
   "id": "c0cd93f2",
   "metadata": {},
   "outputs": [],
   "source": [
    "control_features, control_target = get_subset(training_data, 'Control')\n",
    "patient_features, patient_target = get_subset(training_data, 'Patient')"
   ]
  },
  {
   "cell_type": "code",
   "execution_count": 18,
   "id": "19192704",
   "metadata": {},
   "outputs": [],
   "source": [
    "clf = copy.deepcopy(search.best_estimator_)"
   ]
  },
  {
   "cell_type": "code",
   "execution_count": 30,
   "id": "5deebc6a",
   "metadata": {},
   "outputs": [
    {
     "name": "stdout",
     "output_type": "stream",
     "text": [
      "              precision    recall  f1-score   support\n",
      "\n",
      "           0       0.98      1.00      0.99       548\n",
      "           1       1.00      0.47      0.64        17\n",
      "\n",
      "    accuracy                           0.98       565\n",
      "   macro avg       0.99      0.74      0.82       565\n",
      "weighted avg       0.98      0.98      0.98       565\n",
      "\n",
      "F2 Score (A): 1.0\n",
      "F2 Score (U): 0.53\n",
      "Balanced Accuracy: 0.74\n"
     ]
    }
   ],
   "source": [
    "clf.fit(control_features, control_target)\n",
    "print(classification_report(patient_target, clf.predict(patient_features)))\n",
    "print(f\"F2 Score (A): {round(fbeta_score(patient_target, clf.predict(patient_features), beta=2, pos_label=0), 2)}\")\n",
    "print(f\"F2 Score (U): {round(fbeta_score(patient_target, clf.predict(patient_features), beta=2, pos_label=1), 2)}\")\n",
    "print(f\"Balanced Accuracy: {round(balanced_accuracy_score(patient_target, clf.predict(patient_features)), 2)}\")"
   ]
  },
  {
   "cell_type": "code",
   "execution_count": 31,
   "id": "0ca0190d",
   "metadata": {},
   "outputs": [
    {
     "name": "stdout",
     "output_type": "stream",
     "text": [
      "              precision    recall  f1-score   support\n",
      "\n",
      "           0       1.00      0.96      0.98       459\n",
      "           1       0.29      0.80      0.42        10\n",
      "\n",
      "    accuracy                           0.95       469\n",
      "   macro avg       0.64      0.88      0.70       469\n",
      "weighted avg       0.98      0.95      0.96       469\n",
      "\n",
      "F2 Score (A): 0.96\n",
      "F2 Score (U): 0.59\n",
      "Balanced Accuracy: 0.88\n"
     ]
    }
   ],
   "source": [
    "clf.fit(patient_features, patient_target)\n",
    "print(classification_report(control_target, clf.predict(control_features)))\n",
    "print(f\"F2 Score (A): {round(fbeta_score(control_target, clf.predict(control_features), beta=2, pos_label=0), 2)}\")\n",
    "print(f\"F2 Score (U): {round(fbeta_score(control_target, clf.predict(control_features), beta=2, pos_label=1), 2)}\")\n",
    "print(f\"Balanced Accuracy: {round(balanced_accuracy_score(control_target, clf.predict(control_features)), 2)}\")"
   ]
  },
  {
   "cell_type": "markdown",
   "id": "4122d64a",
   "metadata": {},
   "source": [
    "## 4 - Feature Importance"
   ]
  },
  {
   "cell_type": "code",
   "execution_count": 21,
   "id": "f57a4f95",
   "metadata": {},
   "outputs": [],
   "source": [
    "result = permutation_importance(\n",
    "    search.best_estimator_,\n",
    "    civet_data.features,\n",
    "    qc_data.ratings,\n",
    "    scoring=f2_scorer,\n",
    "    n_repeats=50\n",
    ")"
   ]
  },
  {
   "cell_type": "code",
   "execution_count": 22,
   "id": "73e8086d",
   "metadata": {},
   "outputs": [
    {
     "data": {
      "image/png": "[encoded data removed]",
      "text/plain": [
       "<Figure size 650x800 with 1 Axes>"
      ]
     },
     "metadata": {},
     "output_type": "display_data"
    }
   ],
   "source": [
    "fig, ax = plt.subplots(figsize=[6.5, 8], tight_layout=True)\n",
    "sorted_index = result.importances_mean.argsort()\n",
    "sorted_names = civet_data.feature_names[sorted_index]\n",
    "sorted_importances = result.importances[sorted_index].T\n",
    "ax.boxplot(sorted_importances, vert=False, sym=\"\")\n",
    "ax.set_xlabel(\"Decrease in F2 Score\")\n",
    "ax.set_yticklabels(sorted_names)\n",
    "plt.savefig(os.path.join(FIGURES_DIR, 'perm_importance.jpeg'), dpi=300)"
   ]
  },
  {
   "cell_type": "code",
   "execution_count": 23,
   "id": "c2a30c0f",
   "metadata": {},
   "outputs": [
    {
     "name": "stdout",
     "output_type": "stream",
     "text": [
      "CORTICAL_GM: 0.53\n",
      "LEFT_WM_AREA: 0.52\n",
      "GI_LEFT: 0.40\n",
      "RIGHT_GM_AREA: 0.40\n",
      "RIGHT_MID_AREA: 0.34\n",
      "CEREBRUM_VOL: 0.23\n",
      "BRAIN_VOL: 0.19\n",
      "LEFT_GM_AREA: 0.19\n",
      "SC_PERCENT: 0.18\n",
      "GRAY_LEFT_RES: 0.18\n"
     ]
    }
   ],
   "source": [
    "importances_names = np.flip(civet_data.feature_names[sorted_index])\n",
    "importances_values = np.flip(result.importances_mean[sorted_index])\n",
    "for i in range(10):\n",
    "    print(f\"{importances_names[i]}: {importances_values[i]:.2f}\")"
   ]
  },
  {
   "cell_type": "markdown",
   "id": "ac00caad",
   "metadata": {},
   "source": [
    "## 4 - Testing"
   ]
  },
  {
   "cell_type": "markdown",
   "id": "1f435099",
   "metadata": {},
   "source": [
    "### 3.1 - Load Testing Data"
   ]
  },
  {
   "cell_type": "code",
   "execution_count": 24,
   "id": "04f32ed7",
   "metadata": {},
   "outputs": [],
   "source": [
    "testing_features = CivetData.from_csv(TESTING_DATASET_PATH).features\n",
    "testing_target = QCRatingsData.from_csv(TESTING_DATASET_PATH).ratings"
   ]
  },
  {
   "cell_type": "markdown",
   "id": "8d39272d",
   "metadata": {},
   "source": [
    "### 3.2 - Assess Performance"
   ]
  },
  {
   "cell_type": "code",
   "execution_count": 25,
   "id": "203d1e41",
   "metadata": {},
   "outputs": [
    {
     "name": "stdout",
     "output_type": "stream",
     "text": [
      "0.95\n",
      "0.95\n"
     ]
    }
   ],
   "source": [
    "for i in range(2):\n",
    "    print(round(fbeta_score(testing_target, search.predict(testing_features), beta=2, pos_label=i), 2))"
   ]
  },
  {
   "cell_type": "code",
   "execution_count": 26,
   "id": "996f443d",
   "metadata": {},
   "outputs": [
    {
     "data": {
      "text/plain": [
       "0.97"
      ]
     },
     "execution_count": 26,
     "metadata": {},
     "output_type": "execute_result"
    }
   ],
   "source": [
    "round(balanced_accuracy_score(testing_target, search.predict(testing_features)), 2)"
   ]
  },
  {
   "cell_type": "code",
   "execution_count": 27,
   "id": "d16b9723",
   "metadata": {
    "scrolled": true
   },
   "outputs": [
    {
     "name": "stdout",
     "output_type": "stream",
     "text": [
      "              precision    recall  f1-score   support\n",
      "\n",
      "         0.0       1.00      0.94      0.97        98\n",
      "         1.0       0.79      1.00      0.88        22\n",
      "\n",
      "    accuracy                           0.95       120\n",
      "   macro avg       0.89      0.97      0.92       120\n",
      "weighted avg       0.96      0.95      0.95       120\n",
      "\n"
     ]
    }
   ],
   "source": [
    "print(classification_report(testing_target, search.predict(testing_features)))"
   ]
  }
 ],
 "metadata": {
  "kernelspec": {
   "display_name": "Python 3 (ipykernel)",
   "language": "python",
   "name": "python3"
  },
  "language_info": {
   "codemirror_mode": {
    "name": "ipython",
    "version": 3
   },
   "file_extension": ".py",
   "mimetype": "text/x-python",
   "name": "python",
   "nbconvert_exporter": "python",
   "pygments_lexer": "ipython3",
   "version": "3.8.12"
  },
  "vscode": {
   "interpreter": {
    "hash": "8e33294aa4baf4443c8469478d11b630d7049e69790e7f7c196fe1fa28c83012"
   }
  }
 },
 "nbformat": 4,
 "nbformat_minor": 5
}
