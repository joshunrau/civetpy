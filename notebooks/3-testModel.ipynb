{
 "cells": [
  {
   "cell_type": "markdown",
   "id": "b568f001",
   "metadata": {},
   "source": [
    "## Load Modules/Libraries"
   ]
  },
  {
   "cell_type": "code",
   "execution_count": 1,
   "id": "ea200f91",
   "metadata": {},
   "outputs": [],
   "source": [
    "import sys"
   ]
  },
  {
   "cell_type": "code",
   "execution_count": 2,
   "id": "f19abefa",
   "metadata": {},
   "outputs": [],
   "source": [
    "sys.path.insert(0, '/Users/joshua/Developer/civetqc')"
   ]
  },
  {
   "cell_type": "code",
   "execution_count": 3,
   "id": "3751f081",
   "metadata": {},
   "outputs": [],
   "source": [
    "from sklearn.metrics import classification_report"
   ]
  },
  {
   "cell_type": "code",
   "execution_count": 4,
   "id": "c858d8f2",
   "metadata": {},
   "outputs": [],
   "source": [
    "from civetqc.data import Dataset\n",
    "from civetqc.model import Model"
   ]
  },
  {
   "cell_type": "markdown",
   "id": "c8c871ed",
   "metadata": {},
   "source": [
    "## Load Dataset"
   ]
  },
  {
   "cell_type": "code",
   "execution_count": 5,
   "id": "9e7845de",
   "metadata": {},
   "outputs": [],
   "source": [
    "TESTING_DATASET_PATH = \"/Users/joshua/Developer/civetqc/data/processed/testing_dataset.csv\""
   ]
  },
  {
   "cell_type": "code",
   "execution_count": 6,
   "id": "304d3a3b",
   "metadata": {},
   "outputs": [],
   "source": [
    "testing_data = Dataset.from_csv(TESTING_DATASET_PATH)"
   ]
  },
  {
   "cell_type": "markdown",
   "id": "32969057",
   "metadata": {},
   "source": [
    "## Test Model"
   ]
  },
  {
   "cell_type": "code",
   "execution_count": 7,
   "id": "c30351ca",
   "metadata": {},
   "outputs": [],
   "source": [
    "model = Model.load()"
   ]
  },
  {
   "cell_type": "code",
   "execution_count": 8,
   "id": "f2a1e755",
   "metadata": {},
   "outputs": [],
   "source": [
    "predicted = model.predict(testing_data.features)"
   ]
  },
  {
   "cell_type": "code",
   "execution_count": 9,
   "id": "7882db45",
   "metadata": {},
   "outputs": [
    {
     "name": "stdout",
     "output_type": "stream",
     "text": [
      "              precision    recall  f1-score   support\n",
      "\n",
      "           0       0.99      0.98      0.98        98\n",
      "           1       0.91      0.95      0.93        22\n",
      "\n",
      "    accuracy                           0.97       120\n",
      "   macro avg       0.95      0.97      0.96       120\n",
      "weighted avg       0.98      0.97      0.98       120\n",
      "\n"
     ]
    }
   ],
   "source": [
    "print(classification_report(testing_data.target, predicted))"
   ]
  }
 ],
 "metadata": {
  "kernelspec": {
   "display_name": "Python 3 (ipykernel)",
   "language": "python",
   "name": "python3"
  },
  "language_info": {
   "codemirror_mode": {
    "name": "ipython",
    "version": 3
   },
   "file_extension": ".py",
   "mimetype": "text/x-python",
   "name": "python",
   "nbconvert_exporter": "python",
   "pygments_lexer": "ipython3",
   "version": "3.9.13"
  }
 },
 "nbformat": 4,
 "nbformat_minor": 5
}
