{
 "cells": [
  {
   "cell_type": "markdown",
   "id": "6d0da48e",
   "metadata": {},
   "source": [
    "## Load Libraries and Define Paths"
   ]
  },
  {
   "cell_type": "code",
   "execution_count": 1,
   "id": "79eeafdc",
   "metadata": {},
   "outputs": [],
   "source": [
    "import os\n",
    "import sys"
   ]
  },
  {
   "cell_type": "code",
   "execution_count": 2,
   "id": "bd21d40d",
   "metadata": {},
   "outputs": [],
   "source": [
    "sys.path.insert(0, '/Users/joshua/Developer/civetqc')"
   ]
  },
  {
   "cell_type": "code",
   "execution_count": 3,
   "id": "a8d43e78",
   "metadata": {},
   "outputs": [],
   "source": [
    "from civetqc.data import CIVETData, QCRatingsData, Dataset"
   ]
  },
  {
   "cell_type": "code",
   "execution_count": 4,
   "id": "16ee29f7",
   "metadata": {},
   "outputs": [],
   "source": [
    "RAW_DATA_DIR = '/Users/joshua/Developer/civetqc/data/raw'\n",
    "PROCESSED_DATA_DIR = '/Users/joshua/Developer/civetqc/data/processed'"
   ]
  },
  {
   "cell_type": "markdown",
   "id": "b4c40660",
   "metadata": {},
   "source": [
    "## Create Training Data"
   ]
  },
  {
   "cell_type": "code",
   "execution_count": 5,
   "id": "234c42d3",
   "metadata": {},
   "outputs": [],
   "source": [
    "def create_training_dataset():\n",
    "    dataset = Dataset()\n",
    "    for study_name in [\"FEP\", \"INSIGHT\", \"LAM\", \"TOPSY\", \"NUSDAST\"]:\n",
    "        civet_data = CIVETData.from_csv(os.path.join(RAW_DATA_DIR, study_name, f\"{study_name}_civet_data.csv\"))\n",
    "        qc_ratings_data = QCRatingsData.from_csv(os.path.join(RAW_DATA_DIR, study_name, f\"{study_name}_qc_data.csv\"))\n",
    "        qc_ratings_data.apply_cutoff(1)\n",
    "        dataset.append(Dataset.from_merge(civet_data, qc_ratings_data))\n",
    "    return dataset"
   ]
  },
  {
   "cell_type": "code",
   "execution_count": 6,
   "id": "91334cdf",
   "metadata": {},
   "outputs": [],
   "source": [
    "training_dataset = create_training_dataset()"
   ]
  },
  {
   "cell_type": "code",
   "execution_count": 7,
   "id": "813d200e",
   "metadata": {},
   "outputs": [],
   "source": [
    "training_dataset.to_csv(os.path.join(PROCESSED_DATA_DIR, 'training_dataset.csv'), index=False)"
   ]
  },
  {
   "cell_type": "markdown",
   "id": "beb02d0a",
   "metadata": {},
   "source": [
    "## Create Testing Data"
   ]
  },
  {
   "cell_type": "code",
   "execution_count": 8,
   "id": "d84e529f",
   "metadata": {},
   "outputs": [],
   "source": [
    "def create_testing_dataset():\n",
    "    civet_data = CIVETData.from_csv(os.path.join(RAW_DATA_DIR, 'UKBB', 'UKBB_civet_data.csv'))\n",
    "    qc_ratings_data = QCRatingsData.from_csv(os.path.join(RAW_DATA_DIR, 'UKBB', 'UKBB_qc_data.csv'))\n",
    "    qc_ratings_data.apply_cutoff(1)\n",
    "    return Dataset.from_merge(civet_data, qc_ratings_data)"
   ]
  },
  {
   "cell_type": "code",
   "execution_count": 9,
   "id": "4d70894a",
   "metadata": {},
   "outputs": [],
   "source": [
    "testing_dataset = create_testing_dataset()"
   ]
  },
  {
   "cell_type": "code",
   "execution_count": 10,
   "id": "6ca182cf",
   "metadata": {},
   "outputs": [],
   "source": [
    "testing_dataset.to_csv(os.path.join(PROCESSED_DATA_DIR, 'testing_dataset.csv'), index=False)"
   ]
  }
 ],
 "metadata": {
  "kernelspec": {
   "display_name": "Python 3 (ipykernel)",
   "language": "python",
   "name": "python3"
  },
  "language_info": {
   "codemirror_mode": {
    "name": "ipython",
    "version": 3
   },
   "file_extension": ".py",
   "mimetype": "text/x-python",
   "name": "python",
   "nbconvert_exporter": "python",
   "pygments_lexer": "ipython3",
   "version": "3.9.13"
  }
 },
 "nbformat": 4,
 "nbformat_minor": 5
}
