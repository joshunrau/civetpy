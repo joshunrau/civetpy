{
 "cells": [
  {
   "cell_type": "markdown",
   "id": "024b0125",
   "metadata": {},
   "source": [
    "## Load Modules/Libraries"
   ]
  },
  {
   "cell_type": "code",
   "execution_count": 31,
   "id": "2e350b10",
   "metadata": {},
   "outputs": [],
   "source": [
    "import os\n",
    "import sys"
   ]
  },
  {
   "cell_type": "code",
   "execution_count": 2,
   "id": "b5607410",
   "metadata": {},
   "outputs": [],
   "source": [
    "sys.path.insert(0, '/Users/joshua/Developer/civetqc')"
   ]
  },
  {
   "cell_type": "code",
   "execution_count": 3,
   "id": "2b9e4653",
   "metadata": {},
   "outputs": [],
   "source": [
    "import matplotlib.pyplot as plt\n",
    "import numpy as np\n",
    "import pandas as pd"
   ]
  },
  {
   "cell_type": "code",
   "execution_count": 4,
   "id": "edc3528f",
   "metadata": {},
   "outputs": [],
   "source": [
    "from scipy.stats.distributions import loguniform\n",
    "\n",
    "from sklearn.ensemble import RandomForestClassifier\n",
    "from sklearn.metrics import classification_report, make_scorer, fbeta_score, precision_score, recall_score, roc_auc_score\n",
    "from sklearn.model_selection import RandomizedSearchCV, StratifiedKFold, cross_val_score"
   ]
  },
  {
   "cell_type": "code",
   "execution_count": 5,
   "id": "e862e00a",
   "metadata": {},
   "outputs": [],
   "source": [
    "from civetqc.data import CivetData\n",
    "from civetqc.model import Model"
   ]
  },
  {
   "cell_type": "markdown",
   "id": "5b7aa22c",
   "metadata": {},
   "source": [
    "## Define Paths and Helper Dataset Class"
   ]
  },
  {
   "cell_type": "code",
   "execution_count": 6,
   "id": "2cbed621",
   "metadata": {},
   "outputs": [],
   "source": [
    "TRAINING_DATASET_PATH = \"/Users/joshua/Developer/civetqc/data/processed/training_dataset.csv\"\n",
    "TESTING_DATASET_PATH = \"/Users/joshua/Developer/civetqc/data/processed/testing_dataset.csv\""
   ]
  },
  {
   "cell_type": "code",
   "execution_count": 30,
   "id": "eea7c75d",
   "metadata": {},
   "outputs": [],
   "source": [
    "FIGURES_DIR = '/Users/joshua/Developer/civetqc/figures'"
   ]
  },
  {
   "cell_type": "code",
   "execution_count": 7,
   "id": "435ed37d",
   "metadata": {},
   "outputs": [],
   "source": [
    "class SavedDataset:\n",
    "    \n",
    "    idvar = 'ID'\n",
    "    qcvar = 'QC'\n",
    "    feature_names = CivetData.feature_names\n",
    "    \n",
    "    def __init__(self, filepath: str):\n",
    "        \n",
    "        self.df = pd.read_csv(filepath)\n",
    "        self.features = self.df[self.feature_names].to_numpy()\n",
    "        self.target = self.df[self.qcvar]"
   ]
  },
  {
   "cell_type": "markdown",
   "id": "92a3a431",
   "metadata": {},
   "source": [
    "## Training"
   ]
  },
  {
   "cell_type": "code",
   "execution_count": 8,
   "id": "3e01e231",
   "metadata": {},
   "outputs": [],
   "source": [
    "training_data = SavedDataset(TRAINING_DATASET_PATH)"
   ]
  },
  {
   "cell_type": "code",
   "execution_count": 9,
   "id": "4805a6cd",
   "metadata": {},
   "outputs": [],
   "source": [
    "np.random.seed(0)"
   ]
  },
  {
   "cell_type": "code",
   "execution_count": 10,
   "id": "eb93f367",
   "metadata": {},
   "outputs": [],
   "source": [
    "clf = RandomForestClassifier()\n",
    "cv = StratifiedKFold(n_splits=5)"
   ]
  },
  {
   "cell_type": "code",
   "execution_count": 11,
   "id": "88c159d9",
   "metadata": {},
   "outputs": [],
   "source": [
    "param_distributions = {\n",
    "    'n_estimators': np.arange(50, 501),\n",
    "    'max_depth': np.arange(5, 51),\n",
    "    'max_features': loguniform(0.01, 1.0),\n",
    "    'min_samples_split': np.arange(2, 6),\n",
    "    'min_samples_leaf': np.arange(1, 6),\n",
    "}"
   ]
  },
  {
   "cell_type": "code",
   "execution_count": 12,
   "id": "fa58098f",
   "metadata": {},
   "outputs": [],
   "source": [
    "search = RandomizedSearchCV(clf, param_distributions, cv=cv, scoring='roc_auc', n_iter=50)"
   ]
  },
  {
   "cell_type": "code",
   "execution_count": 13,
   "id": "fe7ce423",
   "metadata": {
    "scrolled": true
   },
   "outputs": [
    {
     "data": {
      "text/html": [
       "<style>#sk-container-id-1 {color: black;background-color: white;}#sk-container-id-1 pre{padding: 0;}#sk-container-id-1 div.sk-toggleable {background-color: white;}#sk-container-id-1 label.sk-toggleable__label {cursor: pointer;display: block;width: 100%;margin-bottom: 0;padding: 0.3em;box-sizing: border-box;text-align: center;}#sk-container-id-1 label.sk-toggleable__label-arrow:before {content: \"▸\";float: left;margin-right: 0.25em;color: #696969;}#sk-container-id-1 label.sk-toggleable__label-arrow:hover:before {color: black;}#sk-container-id-1 div.sk-estimator:hover label.sk-toggleable__label-arrow:before {color: black;}#sk-container-id-1 div.sk-toggleable__content {max-height: 0;max-width: 0;overflow: hidden;text-align: left;background-color: #f0f8ff;}#sk-container-id-1 div.sk-toggleable__content pre {margin: 0.2em;color: black;border-radius: 0.25em;background-color: #f0f8ff;}#sk-container-id-1 input.sk-toggleable__control:checked~div.sk-toggleable__content {max-height: 200px;max-width: 100%;overflow: auto;}#sk-container-id-1 input.sk-toggleable__control:checked~label.sk-toggleable__label-arrow:before {content: \"▾\";}#sk-container-id-1 div.sk-estimator input.sk-toggleable__control:checked~label.sk-toggleable__label {background-color: #d4ebff;}#sk-container-id-1 div.sk-label input.sk-toggleable__control:checked~label.sk-toggleable__label {background-color: #d4ebff;}#sk-container-id-1 input.sk-hidden--visually {border: 0;clip: rect(1px 1px 1px 1px);clip: rect(1px, 1px, 1px, 1px);height: 1px;margin: -1px;overflow: hidden;padding: 0;position: absolute;width: 1px;}#sk-container-id-1 div.sk-estimator {font-family: monospace;background-color: #f0f8ff;border: 1px dotted black;border-radius: 0.25em;box-sizing: border-box;margin-bottom: 0.5em;}#sk-container-id-1 div.sk-estimator:hover {background-color: #d4ebff;}#sk-container-id-1 div.sk-parallel-item::after {content: \"\";width: 100%;border-bottom: 1px solid gray;flex-grow: 1;}#sk-container-id-1 div.sk-label:hover label.sk-toggleable__label {background-color: #d4ebff;}#sk-container-id-1 div.sk-serial::before {content: \"\";position: absolute;border-left: 1px solid gray;box-sizing: border-box;top: 0;bottom: 0;left: 50%;z-index: 0;}#sk-container-id-1 div.sk-serial {display: flex;flex-direction: column;align-items: center;background-color: white;padding-right: 0.2em;padding-left: 0.2em;position: relative;}#sk-container-id-1 div.sk-item {position: relative;z-index: 1;}#sk-container-id-1 div.sk-parallel {display: flex;align-items: stretch;justify-content: center;background-color: white;position: relative;}#sk-container-id-1 div.sk-item::before, #sk-container-id-1 div.sk-parallel-item::before {content: \"\";position: absolute;border-left: 1px solid gray;box-sizing: border-box;top: 0;bottom: 0;left: 50%;z-index: -1;}#sk-container-id-1 div.sk-parallel-item {display: flex;flex-direction: column;z-index: 1;position: relative;background-color: white;}#sk-container-id-1 div.sk-parallel-item:first-child::after {align-self: flex-end;width: 50%;}#sk-container-id-1 div.sk-parallel-item:last-child::after {align-self: flex-start;width: 50%;}#sk-container-id-1 div.sk-parallel-item:only-child::after {width: 0;}#sk-container-id-1 div.sk-dashed-wrapped {border: 1px dashed gray;margin: 0 0.4em 0.5em 0.4em;box-sizing: border-box;padding-bottom: 0.4em;background-color: white;}#sk-container-id-1 div.sk-label label {font-family: monospace;font-weight: bold;display: inline-block;line-height: 1.2em;}#sk-container-id-1 div.sk-label-container {text-align: center;}#sk-container-id-1 div.sk-container {/* jupyter's `normalize.less` sets `[hidden] { display: none; }` but bootstrap.min.css set `[hidden] { display: none !important; }` so we also need the `!important` here to be able to override the default hidden behavior on the sphinx rendered scikit-learn.org. See: https://github.com/scikit-learn/scikit-learn/issues/21755 */display: inline-block !important;position: relative;}#sk-container-id-1 div.sk-text-repr-fallback {display: none;}</style><div id=\"sk-container-id-1\" class=\"sk-top-container\"><div class=\"sk-text-repr-fallback\"><pre>RandomizedSearchCV(cv=StratifiedKFold(n_splits=5, random_state=None, shuffle=False),\n",
       "                   estimator=RandomForestClassifier(), n_iter=50,\n",
       "                   param_distributions={&#x27;max_depth&#x27;: array([ 5,  6,  7,  8,  9, 10, 11, 12, 13, 14, 15, 16, 17, 18, 19, 20, 21,\n",
       "       22, 23, 24, 25, 26, 27, 28, 29, 30, 31, 32, 33, 34, 35, 36, 37, 38,\n",
       "       39, 40, 41, 42, 43, 44, 45, 46, 47, 48, 49, 50]),\n",
       "                                        &#x27;max_features&#x27;: &lt;scipy.stats._distn_infrastructur...\n",
       "       414, 415, 416, 417, 418, 419, 420, 421, 422, 423, 424, 425, 426,\n",
       "       427, 428, 429, 430, 431, 432, 433, 434, 435, 436, 437, 438, 439,\n",
       "       440, 441, 442, 443, 444, 445, 446, 447, 448, 449, 450, 451, 452,\n",
       "       453, 454, 455, 456, 457, 458, 459, 460, 461, 462, 463, 464, 465,\n",
       "       466, 467, 468, 469, 470, 471, 472, 473, 474, 475, 476, 477, 478,\n",
       "       479, 480, 481, 482, 483, 484, 485, 486, 487, 488, 489, 490, 491,\n",
       "       492, 493, 494, 495, 496, 497, 498, 499, 500])},\n",
       "                   scoring=&#x27;roc_auc&#x27;)</pre><b>In a Jupyter environment, please rerun this cell to show the HTML representation or trust the notebook. <br />On GitHub, the HTML representation is unable to render, please try loading this page with nbviewer.org.</b></div><div class=\"sk-container\" hidden><div class=\"sk-item sk-dashed-wrapped\"><div class=\"sk-label-container\"><div class=\"sk-label sk-toggleable\"><input class=\"sk-toggleable__control sk-hidden--visually\" id=\"sk-estimator-id-1\" type=\"checkbox\" ><label for=\"sk-estimator-id-1\" class=\"sk-toggleable__label sk-toggleable__label-arrow\">RandomizedSearchCV</label><div class=\"sk-toggleable__content\"><pre>RandomizedSearchCV(cv=StratifiedKFold(n_splits=5, random_state=None, shuffle=False),\n",
       "                   estimator=RandomForestClassifier(), n_iter=50,\n",
       "                   param_distributions={&#x27;max_depth&#x27;: array([ 5,  6,  7,  8,  9, 10, 11, 12, 13, 14, 15, 16, 17, 18, 19, 20, 21,\n",
       "       22, 23, 24, 25, 26, 27, 28, 29, 30, 31, 32, 33, 34, 35, 36, 37, 38,\n",
       "       39, 40, 41, 42, 43, 44, 45, 46, 47, 48, 49, 50]),\n",
       "                                        &#x27;max_features&#x27;: &lt;scipy.stats._distn_infrastructur...\n",
       "       414, 415, 416, 417, 418, 419, 420, 421, 422, 423, 424, 425, 426,\n",
       "       427, 428, 429, 430, 431, 432, 433, 434, 435, 436, 437, 438, 439,\n",
       "       440, 441, 442, 443, 444, 445, 446, 447, 448, 449, 450, 451, 452,\n",
       "       453, 454, 455, 456, 457, 458, 459, 460, 461, 462, 463, 464, 465,\n",
       "       466, 467, 468, 469, 470, 471, 472, 473, 474, 475, 476, 477, 478,\n",
       "       479, 480, 481, 482, 483, 484, 485, 486, 487, 488, 489, 490, 491,\n",
       "       492, 493, 494, 495, 496, 497, 498, 499, 500])},\n",
       "                   scoring=&#x27;roc_auc&#x27;)</pre></div></div></div><div class=\"sk-parallel\"><div class=\"sk-parallel-item\"><div class=\"sk-item\"><div class=\"sk-label-container\"><div class=\"sk-label sk-toggleable\"><input class=\"sk-toggleable__control sk-hidden--visually\" id=\"sk-estimator-id-2\" type=\"checkbox\" ><label for=\"sk-estimator-id-2\" class=\"sk-toggleable__label sk-toggleable__label-arrow\">estimator: RandomForestClassifier</label><div class=\"sk-toggleable__content\"><pre>RandomForestClassifier()</pre></div></div></div><div class=\"sk-serial\"><div class=\"sk-item\"><div class=\"sk-estimator sk-toggleable\"><input class=\"sk-toggleable__control sk-hidden--visually\" id=\"sk-estimator-id-3\" type=\"checkbox\" ><label for=\"sk-estimator-id-3\" class=\"sk-toggleable__label sk-toggleable__label-arrow\">RandomForestClassifier</label><div class=\"sk-toggleable__content\"><pre>RandomForestClassifier()</pre></div></div></div></div></div></div></div></div></div></div>"
      ],
      "text/plain": [
       "RandomizedSearchCV(cv=StratifiedKFold(n_splits=5, random_state=None, shuffle=False),\n",
       "                   estimator=RandomForestClassifier(), n_iter=50,\n",
       "                   param_distributions={'max_depth': array([ 5,  6,  7,  8,  9, 10, 11, 12, 13, 14, 15, 16, 17, 18, 19, 20, 21,\n",
       "       22, 23, 24, 25, 26, 27, 28, 29, 30, 31, 32, 33, 34, 35, 36, 37, 38,\n",
       "       39, 40, 41, 42, 43, 44, 45, 46, 47, 48, 49, 50]),\n",
       "                                        'max_features': <scipy.stats._distn_infrastructur...\n",
       "       414, 415, 416, 417, 418, 419, 420, 421, 422, 423, 424, 425, 426,\n",
       "       427, 428, 429, 430, 431, 432, 433, 434, 435, 436, 437, 438, 439,\n",
       "       440, 441, 442, 443, 444, 445, 446, 447, 448, 449, 450, 451, 452,\n",
       "       453, 454, 455, 456, 457, 458, 459, 460, 461, 462, 463, 464, 465,\n",
       "       466, 467, 468, 469, 470, 471, 472, 473, 474, 475, 476, 477, 478,\n",
       "       479, 480, 481, 482, 483, 484, 485, 486, 487, 488, 489, 490, 491,\n",
       "       492, 493, 494, 495, 496, 497, 498, 499, 500])},\n",
       "                   scoring='roc_auc')"
      ]
     },
     "execution_count": 13,
     "metadata": {},
     "output_type": "execute_result"
    }
   ],
   "source": [
    "search.fit(training_data.features, training_data.target)"
   ]
  },
  {
   "cell_type": "code",
   "execution_count": 14,
   "id": "6bab2a5e",
   "metadata": {},
   "outputs": [
    {
     "data": {
      "text/plain": [
       "0.91"
      ]
     },
     "execution_count": 14,
     "metadata": {},
     "output_type": "execute_result"
    }
   ],
   "source": [
    "round(search.best_score_, 2)"
   ]
  },
  {
   "cell_type": "code",
   "execution_count": 15,
   "id": "86846589",
   "metadata": {},
   "outputs": [],
   "source": [
    "best_estimator = search.best_estimator_"
   ]
  },
  {
   "cell_type": "markdown",
   "id": "692137fc",
   "metadata": {},
   "source": [
    "## Plot Discrimination Thresholds for Best Estimator"
   ]
  },
  {
   "cell_type": "code",
   "execution_count": 16,
   "id": "8f7f8f46",
   "metadata": {},
   "outputs": [],
   "source": [
    "discrimination_thresholds = np.arange(0, 1.1, .1)"
   ]
  },
  {
   "cell_type": "code",
   "execution_count": 17,
   "id": "b6e29fc0",
   "metadata": {},
   "outputs": [],
   "source": [
    "scores = {\n",
    "    'Precision': [],\n",
    "    'Recall': [],\n",
    "    'F2': []\n",
    "}"
   ]
  },
  {
   "cell_type": "code",
   "execution_count": 18,
   "id": "2ebc29d1",
   "metadata": {},
   "outputs": [],
   "source": [
    "for threshold in discrimination_thresholds:\n",
    "    probabilities = best_estimator.predict_proba(training_data.features)[:, 1]\n",
    "    predictions = np.where(probabilities > threshold, 1, 0)\n",
    "    scores['Precision'].append(precision_score(training_data.target, predictions, zero_division=1))\n",
    "    scores['Recall'].append(recall_score(training_data.target, predictions))\n",
    "    scores['F2'].append(fbeta_score(training_data.target, predictions, beta=2))"
   ]
  },
  {
   "cell_type": "code",
   "execution_count": 32,
   "id": "670cd04d",
   "metadata": {
    "scrolled": false
   },
   "outputs": [
    {
     "data": {
      "image/png": "[encoded data removed]",
      "text/plain": [
       "<Figure size 432x288 with 1 Axes>"
      ]
     },
     "metadata": {
      "needs_background": "light"
     },
     "output_type": "display_data"
    }
   ],
   "source": [
    "fig, ax = plt.subplots()\n",
    "for key, value in scores.items():\n",
    "    ax.plot(discrimination_thresholds, scores[key], label=key, marker='o')\n",
    "ax.set_xticks(discrimination_thresholds)\n",
    "ax.set_xlabel(\"Threshold\")\n",
    "ax.set_ylabel(\"Scores\")\n",
    "ax.set_title(\"Discrimination Thresholds\")\n",
    "ax.legend()\n",
    "fig.tight_layout()\n",
    "plt.savefig(os.path.join(FIGURES_DIR, 'discrimination_thresholds.jpeg'), dpi=300)"
   ]
  },
  {
   "cell_type": "code",
   "execution_count": 21,
   "id": "fa2bcd56",
   "metadata": {},
   "outputs": [],
   "source": [
    "model = Model(best_estimator, default_threshold=0.2)"
   ]
  },
  {
   "cell_type": "code",
   "execution_count": 22,
   "id": "987f94ed",
   "metadata": {},
   "outputs": [
    {
     "name": "stdout",
     "output_type": "stream",
     "text": [
      "              precision    recall  f1-score   support\n",
      "\n",
      "           0       1.00      0.98      0.99      1163\n",
      "           1       0.71      0.98      0.83        53\n",
      "\n",
      "    accuracy                           0.98      1216\n",
      "   macro avg       0.86      0.98      0.91      1216\n",
      "weighted avg       0.99      0.98      0.98      1216\n",
      "\n"
     ]
    }
   ],
   "source": [
    "print(classification_report(training_data.target, model.predict(training_data.features)))"
   ]
  },
  {
   "cell_type": "markdown",
   "id": "fa96cb84",
   "metadata": {},
   "source": [
    "## Save Model"
   ]
  },
  {
   "cell_type": "code",
   "execution_count": 23,
   "id": "8b47ca9d",
   "metadata": {},
   "outputs": [],
   "source": [
    "model.save()"
   ]
  },
  {
   "cell_type": "markdown",
   "id": "60374e25",
   "metadata": {},
   "source": [
    "## Testing"
   ]
  },
  {
   "cell_type": "code",
   "execution_count": 24,
   "id": "73c96a29",
   "metadata": {},
   "outputs": [],
   "source": [
    "testing_data = SavedDataset(TESTING_DATASET_PATH)"
   ]
  },
  {
   "cell_type": "code",
   "execution_count": 25,
   "id": "5e4b3c19",
   "metadata": {},
   "outputs": [],
   "source": [
    "predicted = model.predict(testing_data.features)"
   ]
  },
  {
   "cell_type": "code",
   "execution_count": 26,
   "id": "688a85ca",
   "metadata": {
    "scrolled": true
   },
   "outputs": [
    {
     "name": "stdout",
     "output_type": "stream",
     "text": [
      "              precision    recall  f1-score   support\n",
      "\n",
      "           0       1.00      0.97      0.98        98\n",
      "           1       0.88      1.00      0.94        22\n",
      "\n",
      "    accuracy                           0.97       120\n",
      "   macro avg       0.94      0.98      0.96       120\n",
      "weighted avg       0.98      0.97      0.98       120\n",
      "\n"
     ]
    }
   ],
   "source": [
    "print(classification_report(testing_data.target, predicted))"
   ]
  },
  {
   "cell_type": "code",
   "execution_count": 27,
   "id": "1697d665",
   "metadata": {},
   "outputs": [
    {
     "data": {
      "text/plain": [
       "0.98"
      ]
     },
     "execution_count": 27,
     "metadata": {},
     "output_type": "execute_result"
    }
   ],
   "source": [
    "round(roc_auc_score(testing_data.target, predicted), 2)"
   ]
  },
  {
   "cell_type": "markdown",
   "id": "cc4e2ea3",
   "metadata": {},
   "source": []
  }
 ],
 "metadata": {
  "kernelspec": {
   "display_name": "Python 3 (ipykernel)",
   "language": "python",
   "name": "python3"
  },
  "language_info": {
   "codemirror_mode": {
    "name": "ipython",
    "version": 3
   },
   "file_extension": ".py",
   "mimetype": "text/x-python",
   "name": "python",
   "nbconvert_exporter": "python",
   "pygments_lexer": "ipython3",
   "version": "3.9.13"
  }
 },
 "nbformat": 4,
 "nbformat_minor": 5
}
